{
 "cells": [
  {
   "cell_type": "code",
   "execution_count": 1,
   "metadata": {},
   "outputs": [
    {
     "name": "stdout",
     "output_type": "stream",
     "text": [
      "[25, 9]\n"
     ]
    }
   ],
   "source": [
    "class game:\n",
    "    def game_start(num,work):\n",
    "        list = []  # 设立空列表，获取人数\n",
    "        for i in range(1,num+1):\n",
    "            list.append(i) #人数统计\n",
    "        while len(list)>2: #判断是否要继续循环\n",
    "            for x in range(work-1):\n",
    "                remove = list.pop(0)\n",
    "                list.append(remove) #删除并添加至末尾\n",
    "                if x == work-2:\n",
    "                    list.pop(0) #删除步长的元素\n",
    "            if work ==1:\n",
    "                list = []\n",
    "        print(list)\n",
    "\n",
    "game.game_start(28,2)"
   ]
  },
  {
   "cell_type": "code",
   "execution_count": null,
   "metadata": {},
   "outputs": [],
   "source": []
  }
 ],
 "metadata": {
  "kernelspec": {
   "display_name": "Python 3",
   "language": "python",
   "name": "python3"
  },
  "language_info": {
   "codemirror_mode": {
    "name": "ipython",
    "version": 3
   },
   "file_extension": ".py",
   "mimetype": "text/x-python",
   "name": "python",
   "nbconvert_exporter": "python",
   "pygments_lexer": "ipython3",
   "version": "3.7.0"
  }
 },
 "nbformat": 4,
 "nbformat_minor": 2
}
